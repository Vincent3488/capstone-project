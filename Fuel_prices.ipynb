{
  "nbformat": 4,
  "nbformat_minor": 0,
  "metadata": {
    "colab": {
      "provenance": []
    },
    "kernelspec": {
      "name": "python3",
      "display_name": "Python 3"
    },
    "language_info": {
      "name": "python"
    }
  },
  "cells": [
    {
      "cell_type": "code",
      "source": [
        "%load_ext sql"
      ],
      "metadata": {
        "id": "z56EW_VhetLf"
      },
      "execution_count": 1,
      "outputs": []
    },
    {
      "cell_type": "code",
      "source": [
        "%sql sqlite://"
      ],
      "metadata": {
        "id": "zp17BVHvetM-"
      },
      "execution_count": 2,
      "outputs": []
    },
    {
      "cell_type": "code",
      "source": [
        "%%sql CREATE TABLE FuelPrices (\n",
        "    PricePeriod VARCHAR(100),\n",
        "    Town VARCHAR(100),\n",
        "    Super DECIMAL(10, 2),\n",
        "    Diesel DECIMAL(10, 2),\n",
        "    Kerosene DECIMAL(10, 2)\n",
        ");\n"
      ],
      "metadata": {
        "colab": {
          "base_uri": "https://localhost:8080/"
        },
        "id": "piA4hzUmetPD",
        "outputId": "3bab3111-7027-48b6-ee3e-aec4cb4d6eba"
      },
      "execution_count": 3,
      "outputs": [
        {
          "output_type": "stream",
          "name": "stdout",
          "text": [
            " * sqlite://\n",
            "Done.\n"
          ]
        },
        {
          "output_type": "execute_result",
          "data": {
            "text/plain": [
              "[]"
            ]
          },
          "metadata": {},
          "execution_count": 3
        }
      ]
    },
    {
      "cell_type": "code",
      "source": [
        "%%sql INSERT INTO FuelPrices (PricePeriod, Town, Super, Diesel, Kerosene)\n",
        "VALUES\n",
        "('15th November 2021 - 14th December 2021', 'Mombasa', 127.46, 108.36, 101.29),\n",
        "('15th November 2021 - 14th December 2021', 'Kilifi', 128.17, 109.07, 102.01),\n",
        "('15th November 2021 - 14th December 2021', 'Likoni Mainland', 127.82, 108.71, 101.65),\n",
        "('15th November 2021 - 14th December 2021', 'Kwale', 127.82, 108.71, 101.65),\n",
        "('15th November 2021 - 14th December 2021', 'Malindi', 128.39, 109.27, 102.21),\n",
        "('15th November 2021 - 14th December 2021', 'Lungalunga', 128.53, 109.43, 102.36),\n",
        "('15th November 2021 - 14th December 2021', 'Voi', 128.94, 109.84, 102.76),\n",
        "('15th November 2021 - 14th December 2021', 'Taveta', 130.36, 111.24, 104.18),\n",
        "('15th November 2021 - 14th December 2021', 'Lamu', 130.77, 111.65, 104.59),\n",
        "('15th November 2021 - 14th December 2021', 'Hola', 131.05, 111.94, 104.88),\n",
        "('15th November 2021 - 14th December 2021', 'Nairobi', 129.72, 110.6, 103.54),\n",
        "('15th November 2021 - 14th December 2021', 'Thika', 129.72, 110.6, 103.54),\n",
        "('15th November 2021 - 14th December 2021', 'Machakos', 129.95, 110.84, 103.78),\n",
        "('15th November 2021 - 14th December 2021', 'Kajiado', 130.13, 111.01, 103.95),\n",
        "('15th November 2021 - 14th December 2021', 'Makuyu', 130, 110.88, 103.82),\n",
        "('15th November 2021 - 14th December 2021', 'Muranga', 130.24, 111.12, 104.06);"
      ],
      "metadata": {
        "colab": {
          "base_uri": "https://localhost:8080/"
        },
        "id": "XtnixUELetSC",
        "outputId": "394ac7f1-eded-47fc-d224-d68e8e4936fc"
      },
      "execution_count": 4,
      "outputs": [
        {
          "output_type": "stream",
          "name": "stdout",
          "text": [
            " * sqlite://\n",
            "16 rows affected.\n"
          ]
        },
        {
          "output_type": "execute_result",
          "data": {
            "text/plain": [
              "[]"
            ]
          },
          "metadata": {},
          "execution_count": 4
        }
      ]
    },
    {
      "cell_type": "code",
      "source": [
        "%%sql SELECT Town, Super, Diesel, Kerosene\n",
        "FROM FuelPrices\n",
        "WHERE (Town = 'Nairobi' OR Town = 'Mombasa')\n",
        "AND PricePeriod = '15th November 2021 - 14th December 2021';"
      ],
      "metadata": {
        "colab": {
          "base_uri": "https://localhost:8080/",
          "height": 119
        },
        "id": "4UD2NjtMe5im",
        "outputId": "a97976e7-7557-4e2f-9533-28155a16eb0d"
      },
      "execution_count": 5,
      "outputs": [
        {
          "output_type": "stream",
          "name": "stdout",
          "text": [
            " * sqlite://\n",
            "Done.\n"
          ]
        },
        {
          "output_type": "execute_result",
          "data": {
            "text/plain": [
              "[('Mombasa', 127.46, 108.36, 101.29), ('Nairobi', 129.72, 110.6, 103.54)]"
            ],
            "text/html": [
              "<table>\n",
              "    <thead>\n",
              "        <tr>\n",
              "            <th>Town</th>\n",
              "            <th>Super</th>\n",
              "            <th>Diesel</th>\n",
              "            <th>Kerosene</th>\n",
              "        </tr>\n",
              "    </thead>\n",
              "    <tbody>\n",
              "        <tr>\n",
              "            <td>Mombasa</td>\n",
              "            <td>127.46</td>\n",
              "            <td>108.36</td>\n",
              "            <td>101.29</td>\n",
              "        </tr>\n",
              "        <tr>\n",
              "            <td>Nairobi</td>\n",
              "            <td>129.72</td>\n",
              "            <td>110.6</td>\n",
              "            <td>103.54</td>\n",
              "        </tr>\n",
              "    </tbody>\n",
              "</table>"
            ]
          },
          "metadata": {},
          "execution_count": 5
        }
      ]
    },
    {
      "cell_type": "code",
      "source": [
        "%%sql SELECT Town, MAX(Diesel) AS MaxDieselPrice\n",
        "FROM FuelPrices\n",
        "WHERE PricePeriod = '15th November 2021 - 14th December 2021'\n",
        "GROUP BY Town\n",
        "ORDER BY MaxDieselPrice DESC\n",
        "LIMIT 1;"
      ],
      "metadata": {
        "colab": {
          "base_uri": "https://localhost:8080/",
          "height": 98
        },
        "id": "-ORu6vjbe5kN",
        "outputId": "0aa5c0ec-f1f5-4bcf-961f-0c41887eb626"
      },
      "execution_count": 6,
      "outputs": [
        {
          "output_type": "stream",
          "name": "stdout",
          "text": [
            " * sqlite://\n",
            "Done.\n"
          ]
        },
        {
          "output_type": "execute_result",
          "data": {
            "text/plain": [
              "[('Hola', 111.94)]"
            ],
            "text/html": [
              "<table>\n",
              "    <thead>\n",
              "        <tr>\n",
              "            <th>Town</th>\n",
              "            <th>MaxDieselPrice</th>\n",
              "        </tr>\n",
              "    </thead>\n",
              "    <tbody>\n",
              "        <tr>\n",
              "            <td>Hola</td>\n",
              "            <td>111.94</td>\n",
              "        </tr>\n",
              "    </tbody>\n",
              "</table>"
            ]
          },
          "metadata": {},
          "execution_count": 6
        }
      ]
    },
    {
      "cell_type": "code",
      "source": [
        "%%sql CREATE TABLE FuelPrices2022 (\n",
        "    PricePeriod VARCHAR(50),\n",
        "    Town VARCHAR(50),\n",
        "    Super DECIMAL(10, 2),\n",
        "    Diesel DECIMAL(10, 2),\n",
        "    Kerosene DECIMAL(10, 2)\n",
        ");"
      ],
      "metadata": {
        "colab": {
          "base_uri": "https://localhost:8080/"
        },
        "id": "EeJJ_cpCe5l8",
        "outputId": "29d66efe-f113-47e3-89fa-4ee75393cfb2"
      },
      "execution_count": 7,
      "outputs": [
        {
          "output_type": "stream",
          "name": "stdout",
          "text": [
            " * sqlite://\n",
            "Done.\n"
          ]
        },
        {
          "output_type": "execute_result",
          "data": {
            "text/plain": [
              "[]"
            ]
          },
          "metadata": {},
          "execution_count": 7
        }
      ]
    },
    {
      "cell_type": "code",
      "source": [
        "%%sql INSERT INTO FuelPrices2022 (PricePeriod, Town, Super, Diesel, Kerosene)\n",
        "VALUES\n",
        "    ('15th January 2022 - 14th February 2022', 'Mombasa', 127.46, 108.36, 101.29),\n",
        "    ('15th January 2022 - 14th February 2022', 'Kilifi', 128.17, 109.07, 102.01),\n",
        "    ('15th January 2022 - 14th February 2022', 'Likoni Mainland', 127.82, 108.71, 101.65),\n",
        "    ('15th January 2022 - 14th February 2022', 'Kwale', 127.82, 108.71, 101.65),\n",
        "    ('15th January 2022 - 14th February 2022', 'Malindi', 128.39, 109.27, 102.21),\n",
        "    ('15th January 2022 - 14th February 2022', 'Lungalunga', 128.53, 109.43, 102.36),\n",
        "    ('15th January 2022 - 14th February 2022', 'Voi', 128.94, 109.84, 102.76),\n",
        "    ('15th January 2022 - 14th February 2022', 'Taveta', 130.36, 111.24, 104.18),\n",
        "    ('15th January 2022 - 14th February 2022', 'Lamu', 130.77, 111.65, 104.59),\n",
        "    ('15th January 2022 - 14th February 2022', 'Hola', 131.05, 111.94, 104.88),\n",
        "    ('15th January 2022 - 14th February 2022', 'Nairobi', 129.72, 110.6, 103.54),\n",
        "    ('15th January 2022 - 14th February 2022', 'Thika', 129.72, 110.6, 103.54),\n",
        "    ('15th January 2022 - 14th February 2022', 'Machakos', 129.95, 110.84, 103.78),\n",
        "    ('15th January 2022 - 14th February 2022', 'Kajiado', 130.13, 111.01, 103.95);"
      ],
      "metadata": {
        "colab": {
          "base_uri": "https://localhost:8080/"
        },
        "id": "7MDv3JH0e5n1",
        "outputId": "17752349-d35c-4a3f-98cf-3dcd126d3e4b"
      },
      "execution_count": 8,
      "outputs": [
        {
          "output_type": "stream",
          "name": "stdout",
          "text": [
            " * sqlite://\n",
            "14 rows affected.\n"
          ]
        },
        {
          "output_type": "execute_result",
          "data": {
            "text/plain": [
              "[]"
            ]
          },
          "metadata": {},
          "execution_count": 8
        }
      ]
    },
    {
      "cell_type": "markdown",
      "source": [
        "The town with the lowest average price of Diesel for the period 15th January 2022 - 14th February 2022."
      ],
      "metadata": {
        "id": "jNvz6eOVmtPD"
      }
    },
    {
      "cell_type": "code",
      "source": [
        "%%sql SELECT Town, AVG(Diesel) AS AverageDieselPrice\n",
        "FROM FuelPrices2022\n",
        "GROUP BY Town\n",
        "ORDER BY AverageDieselPrice ASC\n",
        "LIMIT 1;"
      ],
      "metadata": {
        "colab": {
          "base_uri": "https://localhost:8080/",
          "height": 98
        },
        "id": "GgMdjdpAe5pg",
        "outputId": "107eb90d-b3dd-4728-ab26-5967498c91af"
      },
      "execution_count": 9,
      "outputs": [
        {
          "output_type": "stream",
          "name": "stdout",
          "text": [
            " * sqlite://\n",
            "Done.\n"
          ]
        },
        {
          "output_type": "execute_result",
          "data": {
            "text/plain": [
              "[('Mombasa', 108.36)]"
            ],
            "text/html": [
              "<table>\n",
              "    <thead>\n",
              "        <tr>\n",
              "            <th>Town</th>\n",
              "            <th>AverageDieselPrice</th>\n",
              "        </tr>\n",
              "    </thead>\n",
              "    <tbody>\n",
              "        <tr>\n",
              "            <td>Mombasa</td>\n",
              "            <td>108.36</td>\n",
              "        </tr>\n",
              "    </tbody>\n",
              "</table>"
            ]
          },
          "metadata": {},
          "execution_count": 9
        }
      ]
    },
    {
      "cell_type": "markdown",
      "source": [
        "Which town had the highest price for Diesel during the period 15th January 2022 - 14th February 2022?"
      ],
      "metadata": {
        "id": "NxgBEaUWm6KG"
      }
    },
    {
      "cell_type": "code",
      "source": [],
      "metadata": {
        "id": "B_TuHZaHmxj8"
      },
      "execution_count": null,
      "outputs": []
    },
    {
      "cell_type": "code",
      "source": [
        "%%sql SELECT Town, MAX(Diesel) AS HighestDieselPrice\n",
        "FROM FuelPrices2022;"
      ],
      "metadata": {
        "colab": {
          "base_uri": "https://localhost:8080/",
          "height": 98
        },
        "id": "3xLcc1camxnC",
        "outputId": "ca9cf2be-97b0-45d0-8565-58cdb612e565"
      },
      "execution_count": 10,
      "outputs": [
        {
          "output_type": "stream",
          "name": "stdout",
          "text": [
            " * sqlite://\n",
            "Done.\n"
          ]
        },
        {
          "output_type": "execute_result",
          "data": {
            "text/plain": [
              "[('Hola', 111.94)]"
            ],
            "text/html": [
              "<table>\n",
              "    <thead>\n",
              "        <tr>\n",
              "            <th>Town</th>\n",
              "            <th>HighestDieselPrice</th>\n",
              "        </tr>\n",
              "    </thead>\n",
              "    <tbody>\n",
              "        <tr>\n",
              "            <td>Hola</td>\n",
              "            <td>111.94</td>\n",
              "        </tr>\n",
              "    </tbody>\n",
              "</table>"
            ]
          },
          "metadata": {},
          "execution_count": 10
        }
      ]
    },
    {
      "cell_type": "markdown",
      "source": [
        "Find the average price of Super fuel across all towns for the period 15th January 2022 - 14th February 2022."
      ],
      "metadata": {
        "id": "v2o8PR8OnNXJ"
      }
    },
    {
      "cell_type": "code",
      "source": [
        "%%sql SELECT AVG(Super) AS AverageSuperPrice\n",
        "FROM FuelPrices2022;"
      ],
      "metadata": {
        "colab": {
          "base_uri": "https://localhost:8080/",
          "height": 98
        },
        "id": "HknlTWqMnSYs",
        "outputId": "7ba5d2f5-38fd-43cd-cd46-89bda4e1670c"
      },
      "execution_count": 11,
      "outputs": [
        {
          "output_type": "stream",
          "name": "stdout",
          "text": [
            " * sqlite://\n",
            "Done.\n"
          ]
        },
        {
          "output_type": "execute_result",
          "data": {
            "text/plain": [
              "[(129.20214285714286,)]"
            ],
            "text/html": [
              "<table>\n",
              "    <thead>\n",
              "        <tr>\n",
              "            <th>AverageSuperPrice</th>\n",
              "        </tr>\n",
              "    </thead>\n",
              "    <tbody>\n",
              "        <tr>\n",
              "            <td>129.20214285714286</td>\n",
              "        </tr>\n",
              "    </tbody>\n",
              "</table>"
            ]
          },
          "metadata": {},
          "execution_count": 11
        }
      ]
    },
    {
      "cell_type": "code",
      "source": [
        "%%sql CREATE TABLE FuelPricesJulyAug2023 (\n",
        "    PricePeriod VARCHAR(50),\n",
        "    Town VARCHAR(50),\n",
        "    SuperPetrol DECIMAL(10, 2),\n",
        "    Diesel DECIMAL(10, 2),\n",
        "    Kerosene DECIMAL(10, 2)\n",
        ");"
      ],
      "metadata": {
        "colab": {
          "base_uri": "https://localhost:8080/"
        },
        "id": "423__vrXnd_b",
        "outputId": "77f62974-0b74-43bd-8ca0-829797c9427f"
      },
      "execution_count": 12,
      "outputs": [
        {
          "output_type": "stream",
          "name": "stdout",
          "text": [
            " * sqlite://\n",
            "Done.\n"
          ]
        },
        {
          "output_type": "execute_result",
          "data": {
            "text/plain": [
              "[]"
            ]
          },
          "metadata": {},
          "execution_count": 12
        }
      ]
    },
    {
      "cell_type": "code",
      "source": [
        "%%sql INSERT INTO FuelPricesJulyAug2023 (PricePeriod, Town, SuperPetrol, Diesel, Kerosene)\n",
        "VALUES\n",
        "    ('July 15th 2023 - August 14th 2023', 'Mombasa', 191.62, 176.63, 166.43),\n",
        "    ('July 15th 2023 - August 14th 2023', 'Kilifi', 192.39, 177.40, 167.19),\n",
        "    ('July 15th 2023 - August 14th 2023', 'Likoni Mainland', 192.00, 177.02, 166.81),\n",
        "    ('July 15th 2023 - August 14th 2023', 'Kwale', 192.00, 177.02, 166.81),\n",
        "    ('July 15th 2023 - August 14th 2023', 'Malindi', 192.62, 177.62, 167.41),\n",
        "    ('July 15th 2023 - August 14th 2023', 'Lungalunga', 192.77, 177.78, 167.57),\n",
        "    ('July 15th 2023 - August 14th 2023', 'Voi', 193.21, 178.21, 168.01),\n",
        "    ('July 15th 2023 - August 14th 2023', 'Taveta', 194.73, 179.73, 169.52),\n",
        "    ('July 15th 2023 - August 14th 2023', 'Lamu', 195.17, 180.17, 169.97),\n",
        "    ('July 15th 2023 - August 14th 2023', 'Hola', 195.47, 180.48, 170.28),\n",
        "    ('July 15th 2023 - August 14th 2023', 'Mpeketoni', 195.17, 180.17, 169.97),\n",
        "    ('July 15th 2023 - August 14th 2023', 'Minjila', 194.06, 179.07, 168.86),\n",
        "    ('July 15th 2023 - August 14th 2023', 'Garsen', 194.15, 179.16, 168.95),\n",
        "    ('July 15th 2023 - August 14th 2023', 'Samburu', 191.95, 176.95, 166.75),\n",
        "    ('July 15th 2023 - August 14th 2023', 'Taru', 192.14, 177.14, 166.95),\n",
        "    ('July 15th 2023 - August 14th 2023', 'Mwatate', 193.57, 178.58, 168.37),\n",
        "    ('July 15th 2023 - August 14th 2023', 'Wundanji', 193.75, 178.76, 168.56),\n",
        "    ('July 15th 2023 - August 14th 2023', 'Kaloleni', 191.79, 176.80, 166.60),\n",
        "    ('July 15th 2023 - August 14th 2023', 'Marereni', 193.32, 178.33, 168.12),\n",
        "    ('July 15th 2023 - August 14th 2023', 'Nairobi', 194.68, 179.67, 169.48),\n",
        "    ('July 15th 2023 - August 14th 2023', 'Thika', 194.68, 179.67, 169.48),\n",
        "    ('July 15th 2023 - August 14th 2023', 'Machakos', 194.94, 179.92, 169.73),\n",
        "    ('July 15th 2023 - August 14th 2023', 'Kajiado', 195.13, 180.11, 169.93),\n",
        "    ('July 15th 2023 - August 14th 2023', 'Makuyu', 195.00, 179.97, 169.79),\n",
        "    ('July 15th 2023 - August 14th 2023', 'Muranga', 195.24, 180.23, 170.03),\n",
        "    ('July 15th 2023 - August 14th 2023', 'Sagana', 195.48, 180.46, 170.28),\n",
        "    ('July 15th 2023 - August 14th 2023', 'Embu', 195.87, 180.86, 170.66);\n"
      ],
      "metadata": {
        "colab": {
          "base_uri": "https://localhost:8080/"
        },
        "id": "UexIOPnInevB",
        "outputId": "8d4084e4-8515-4fc2-ddce-377ebae8fedb"
      },
      "execution_count": 13,
      "outputs": [
        {
          "output_type": "stream",
          "name": "stdout",
          "text": [
            " * sqlite://\n",
            "27 rows affected.\n"
          ]
        },
        {
          "output_type": "execute_result",
          "data": {
            "text/plain": [
              "[]"
            ]
          },
          "metadata": {},
          "execution_count": 13
        }
      ]
    },
    {
      "cell_type": "markdown",
      "source": [
        "List all towns where the price of SuperPetrol was above 195."
      ],
      "metadata": {
        "id": "lIYcpWtAnrqh"
      }
    },
    {
      "cell_type": "code",
      "source": [
        "%%sql SELECT Town\n",
        "FROM FuelPricesJulyAug2023\n",
        "WHERE SuperPetrol > 195;"
      ],
      "metadata": {
        "colab": {
          "base_uri": "https://localhost:8080/",
          "height": 224
        },
        "id": "pjijqXzZn750",
        "outputId": "2618ecbe-8c84-48e0-d147-d758766d51c6"
      },
      "execution_count": 14,
      "outputs": [
        {
          "output_type": "stream",
          "name": "stdout",
          "text": [
            " * sqlite://\n",
            "Done.\n"
          ]
        },
        {
          "output_type": "execute_result",
          "data": {
            "text/plain": [
              "[('Lamu',),\n",
              " ('Hola',),\n",
              " ('Mpeketoni',),\n",
              " ('Kajiado',),\n",
              " ('Muranga',),\n",
              " ('Sagana',),\n",
              " ('Embu',)]"
            ],
            "text/html": [
              "<table>\n",
              "    <thead>\n",
              "        <tr>\n",
              "            <th>Town</th>\n",
              "        </tr>\n",
              "    </thead>\n",
              "    <tbody>\n",
              "        <tr>\n",
              "            <td>Lamu</td>\n",
              "        </tr>\n",
              "        <tr>\n",
              "            <td>Hola</td>\n",
              "        </tr>\n",
              "        <tr>\n",
              "            <td>Mpeketoni</td>\n",
              "        </tr>\n",
              "        <tr>\n",
              "            <td>Kajiado</td>\n",
              "        </tr>\n",
              "        <tr>\n",
              "            <td>Muranga</td>\n",
              "        </tr>\n",
              "        <tr>\n",
              "            <td>Sagana</td>\n",
              "        </tr>\n",
              "        <tr>\n",
              "            <td>Embu</td>\n",
              "        </tr>\n",
              "    </tbody>\n",
              "</table>"
            ]
          },
          "metadata": {},
          "execution_count": 14
        }
      ]
    },
    {
      "cell_type": "code",
      "source": [],
      "metadata": {
        "id": "kJbN1d4gn78-"
      },
      "execution_count": null,
      "outputs": []
    }
  ]
}