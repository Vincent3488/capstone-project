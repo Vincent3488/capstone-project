{
  "nbformat": 4,
  "nbformat_minor": 0,
  "metadata": {
    "colab": {
      "provenance": []
    },
    "kernelspec": {
      "name": "python3",
      "display_name": "Python 3"
    },
    "language_info": {
      "name": "python"
    }
  },
  "cells": [
    {
      "cell_type": "markdown",
      "source": [
        "15th November 2021- 14th December 2021"
      ],
      "metadata": {
        "id": "OExtoVBkl_BS"
      }
    },
    {
      "cell_type": "code",
      "source": [
        "\n",
        "%load_ext sql\n"
      ],
      "metadata": {
        "id": "uoXMDhzX5ZYY"
      },
      "execution_count": null,
      "outputs": []
    },
    {
      "cell_type": "code",
      "source": [
        "%sql sqlite://"
      ],
      "metadata": {
        "id": "mXuCtlLR5n45"
      },
      "execution_count": null,
      "outputs": []
    },
    {
      "cell_type": "code",
      "source": [
        "%%sql CREATE TABLE FuelPrices (\n",
        "    PricePeriod VARCHAR(100),\n",
        "    Town VARCHAR(100),\n",
        "    Super DECIMAL(10, 2),\n",
        "    Diesel DECIMAL(10, 2),\n",
        "    Kerosene DECIMAL(10, 2)\n",
        ");\n"
      ],
      "metadata": {
        "colab": {
          "base_uri": "https://localhost:8080/"
        },
        "id": "VfoRqDrM5n7j",
        "outputId": "9f8f305b-8bc8-41ca-efd2-1fde0a66c9a3"
      },
      "execution_count": null,
      "outputs": [
        {
          "output_type": "stream",
          "name": "stdout",
          "text": [
            " * sqlite://\n",
            "Done.\n"
          ]
        },
        {
          "output_type": "execute_result",
          "data": {
            "text/plain": [
              "[]"
            ]
          },
          "metadata": {},
          "execution_count": 3
        }
      ]
    },
    {
      "cell_type": "code",
      "source": [
        "%%sql INSERT INTO FuelPrices (PricePeriod, Town, Super, Diesel, Kerosene)\n",
        "VALUES\n",
        "('15th November 2021 - 14th December 2021', 'Mombasa', 127.46, 108.36, 101.29),\n",
        "('15th November 2021 - 14th December 2021', 'Kilifi', 128.17, 109.07, 102.01),\n",
        "('15th November 2021 - 14th December 2021', 'Likoni Mainland', 127.82, 108.71, 101.65),\n",
        "('15th November 2021 - 14th December 2021', 'Kwale', 127.82, 108.71, 101.65),\n",
        "('15th November 2021 - 14th December 2021', 'Malindi', 128.39, 109.27, 102.21),\n",
        "('15th November 2021 - 14th December 2021', 'Lungalunga', 128.53, 109.43, 102.36),\n",
        "('15th November 2021 - 14th December 2021', 'Voi', 128.94, 109.84, 102.76),\n",
        "('15th November 2021 - 14th December 2021', 'Taveta', 130.36, 111.24, 104.18),\n",
        "('15th November 2021 - 14th December 2021', 'Lamu', 130.77, 111.65, 104.59),\n",
        "('15th November 2021 - 14th December 2021', 'Hola', 131.05, 111.94, 104.88),\n",
        "('15th November 2021 - 14th December 2021', 'Nairobi', 129.72, 110.6, 103.54),\n",
        "('15th November 2021 - 14th December 2021', 'Thika', 129.72, 110.6, 103.54),\n",
        "('15th November 2021 - 14th December 2021', 'Machakos', 129.95, 110.84, 103.78),\n",
        "('15th November 2021 - 14th December 2021', 'Kajiado', 130.13, 111.01, 103.95),\n",
        "('15th November 2021 - 14th December 2021', 'Makuyu', 130, 110.88, 103.82),\n",
        "('15th November 2021 - 14th December 2021', 'Muranga', 130.24, 111.12, 104.06);"
      ],
      "metadata": {
        "colab": {
          "base_uri": "https://localhost:8080/"
        },
        "id": "T-9fZCQM5oBE",
        "outputId": "0b43fb1e-2514-4e61-cca2-5cd3a9f13e1f"
      },
      "execution_count": null,
      "outputs": [
        {
          "output_type": "stream",
          "name": "stdout",
          "text": [
            " * sqlite://\n",
            "16 rows affected.\n"
          ]
        },
        {
          "output_type": "execute_result",
          "data": {
            "text/plain": [
              "[]"
            ]
          },
          "metadata": {},
          "execution_count": 4
        }
      ]
    },
    {
      "cell_type": "markdown",
      "source": [
        "15th January 2022-14th February 2022"
      ],
      "metadata": {
        "id": "2CFYELIo_lUI"
      }
    },
    {
      "cell_type": "code",
      "source": [
        "%%sql CREATE TABLE FuelPrices2022 (\n",
        "    PricePeriod VARCHAR(50),\n",
        "    Town VARCHAR(50),\n",
        "    Super DECIMAL(10, 2),\n",
        "    Diesel DECIMAL(10, 2),\n",
        "    Kerosene DECIMAL(10, 2)\n",
        ");\n"
      ],
      "metadata": {
        "colab": {
          "base_uri": "https://localhost:8080/"
        },
        "id": "6GYTvxMK9WVT",
        "outputId": "35336bd9-8e49-4f02-e64d-f47ee04d248e"
      },
      "execution_count": null,
      "outputs": [
        {
          "output_type": "stream",
          "name": "stdout",
          "text": [
            " * sqlite://\n",
            "Done.\n"
          ]
        },
        {
          "output_type": "execute_result",
          "data": {
            "text/plain": [
              "[]"
            ]
          },
          "metadata": {},
          "execution_count": 8
        }
      ]
    },
    {
      "cell_type": "code",
      "source": [
        "%%sql INSERT INTO FuelPrices2022 (PricePeriod, Town, Super, Diesel, Kerosene)\n",
        "VALUES\n",
        "    ('15th January 2022 - 14th February 2022', 'Mombasa', 127.46, 108.36, 101.29),\n",
        "    ('15th January 2022 - 14th February 2022', 'Kilifi', 128.17, 109.07, 102.01),\n",
        "    ('15th January 2022 - 14th February 2022', 'Likoni Mainland', 127.82, 108.71, 101.65),\n",
        "    ('15th January 2022 - 14th February 2022', 'Kwale', 127.82, 108.71, 101.65),\n",
        "    ('15th January 2022 - 14th February 2022', 'Malindi', 128.39, 109.27, 102.21),\n",
        "    ('15th January 2022 - 14th February 2022', 'Lungalunga', 128.53, 109.43, 102.36),\n",
        "    ('15th January 2022 - 14th February 2022', 'Voi', 128.94, 109.84, 102.76),\n",
        "    ('15th January 2022 - 14th February 2022', 'Taveta', 130.36, 111.24, 104.18),\n",
        "    ('15th January 2022 - 14th February 2022', 'Lamu', 130.77, 111.65, 104.59),\n",
        "    ('15th January 2022 - 14th February 2022', 'Hola', 131.05, 111.94, 104.88),\n",
        "    ('15th January 2022 - 14th February 2022', 'Nairobi', 129.72, 110.6, 103.54),\n",
        "    ('15th January 2022 - 14th February 2022', 'Thika', 129.72, 110.6, 103.54),\n",
        "    ('15th January 2022 - 14th February 2022', 'Machakos', 129.95, 110.84, 103.78),\n",
        "    ('15th January 2022 - 14th February 2022', 'Kajiado', 130.13, 111.01, 103.95);\n"
      ],
      "metadata": {
        "colab": {
          "base_uri": "https://localhost:8080/"
        },
        "id": "jymQ1FoQ9Whl",
        "outputId": "b6c92ae7-d697-48d5-ae9c-c00c4fe9fa61"
      },
      "execution_count": null,
      "outputs": [
        {
          "output_type": "stream",
          "name": "stdout",
          "text": [
            " * sqlite://\n",
            "14 rows affected.\n"
          ]
        },
        {
          "output_type": "execute_result",
          "data": {
            "text/plain": [
              "[]"
            ]
          },
          "metadata": {},
          "execution_count": 9
        }
      ]
    },
    {
      "cell_type": "markdown",
      "source": [
        "15th July 2023-14th August 2023"
      ],
      "metadata": {
        "id": "TfrItlPoARNV"
      }
    },
    {
      "cell_type": "code",
      "source": [
        "%%sql CREATE TABLE FuelPricesJulyAug2023 (\n",
        "    PricePeriod VARCHAR(50),\n",
        "    Town VARCHAR(50),\n",
        "    SuperPetrol DECIMAL(10, 2),\n",
        "    Diesel DECIMAL(10, 2),\n",
        "    Kerosene DECIMAL(10, 2)\n",
        ");\n"
      ],
      "metadata": {
        "colab": {
          "base_uri": "https://localhost:8080/"
        },
        "id": "r_se0S4R9Wqn",
        "outputId": "d07ea803-7c02-4858-87cc-207592446ac9"
      },
      "execution_count": null,
      "outputs": [
        {
          "output_type": "stream",
          "name": "stdout",
          "text": [
            " * sqlite://\n",
            "Done.\n"
          ]
        },
        {
          "output_type": "execute_result",
          "data": {
            "text/plain": [
              "[]"
            ]
          },
          "metadata": {},
          "execution_count": 10
        }
      ]
    },
    {
      "cell_type": "code",
      "source": [
        "%%sql INSERT INTO FuelPricesJulyAug2023 (PricePeriod, Town, SuperPetrol, Diesel, Kerosene)\n",
        "VALUES\n",
        "    ('July 15th 2023 - August 14th 2023', 'Mombasa', 191.62, 176.63, 166.43),\n",
        "    ('July 15th 2023 - August 14th 2023', 'Kilifi', 192.39, 177.40, 167.19),\n",
        "    ('July 15th 2023 - August 14th 2023', 'Likoni Mainland', 192.00, 177.02, 166.81),\n",
        "    ('July 15th 2023 - August 14th 2023', 'Kwale', 192.00, 177.02, 166.81),\n",
        "    ('July 15th 2023 - August 14th 2023', 'Malindi', 192.62, 177.62, 167.41),\n",
        "    ('July 15th 2023 - August 14th 2023', 'Lungalunga', 192.77, 177.78, 167.57),\n",
        "    ('July 15th 2023 - August 14th 2023', 'Voi', 193.21, 178.21, 168.01),\n",
        "    ('July 15th 2023 - August 14th 2023', 'Taveta', 194.73, 179.73, 169.52),\n",
        "    ('July 15th 2023 - August 14th 2023', 'Lamu', 195.17, 180.17, 169.97),\n",
        "    ('July 15th 2023 - August 14th 2023', 'Hola', 195.47, 180.48, 170.28),\n",
        "    ('July 15th 2023 - August 14th 2023', 'Mpeketoni', 195.17, 180.17, 169.97),\n",
        "    ('July 15th 2023 - August 14th 2023', 'Minjila', 194.06, 179.07, 168.86),\n",
        "    ('July 15th 2023 - August 14th 2023', 'Garsen', 194.15, 179.16, 168.95),\n",
        "    ('July 15th 2023 - August 14th 2023', 'Samburu', 191.95, 176.95, 166.75),\n",
        "    ('July 15th 2023 - August 14th 2023', 'Taru', 192.14, 177.14, 166.95),\n",
        "    ('July 15th 2023 - August 14th 2023', 'Mwatate', 193.57, 178.58, 168.37),\n",
        "    ('July 15th 2023 - August 14th 2023', 'Wundanji', 193.75, 178.76, 168.56),\n",
        "    ('July 15th 2023 - August 14th 2023', 'Kaloleni', 191.79, 176.80, 166.60),\n",
        "    ('July 15th 2023 - August 14th 2023', 'Marereni', 193.32, 178.33, 168.12),\n",
        "    ('July 15th 2023 - August 14th 2023', 'Nairobi', 194.68, 179.67, 169.48),\n",
        "    ('July 15th 2023 - August 14th 2023', 'Thika', 194.68, 179.67, 169.48),\n",
        "    ('July 15th 2023 - August 14th 2023', 'Machakos', 194.94, 179.92, 169.73),\n",
        "    ('July 15th 2023 - August 14th 2023', 'Kajiado', 195.13, 180.11, 169.93),\n",
        "    ('July 15th 2023 - August 14th 2023', 'Makuyu', 195.00, 179.97, 169.79),\n",
        "    ('July 15th 2023 - August 14th 2023', 'Muranga', 195.24, 180.23, 170.03),\n",
        "    ('July 15th 2023 - August 14th 2023', 'Sagana', 195.48, 180.46, 170.28),\n",
        "    ('July 15th 2023 - August 14th 2023', 'Embu', 195.87, 180.86, 170.66);\n",
        "\n"
      ],
      "metadata": {
        "colab": {
          "base_uri": "https://localhost:8080/"
        },
        "id": "2EyuvJnxAPWn",
        "outputId": "f902ae64-7463-4ffd-9704-683b4093bf31"
      },
      "execution_count": null,
      "outputs": [
        {
          "output_type": "stream",
          "name": "stdout",
          "text": [
            " * sqlite://\n",
            "27 rows affected.\n"
          ]
        },
        {
          "output_type": "execute_result",
          "data": {
            "text/plain": [
              "[]"
            ]
          },
          "metadata": {},
          "execution_count": 11
        }
      ]
    },
    {
      "cell_type": "code",
      "source": [],
      "metadata": {
        "id": "POtk877xAPeZ"
      },
      "execution_count": null,
      "outputs": []
    },
    {
      "cell_type": "code",
      "source": [],
      "metadata": {
        "id": "R3yCLWZaAPgi"
      },
      "execution_count": null,
      "outputs": []
    },
    {
      "cell_type": "code",
      "source": [],
      "metadata": {
        "id": "c0HQx5kqAPi3"
      },
      "execution_count": null,
      "outputs": []
    },
    {
      "cell_type": "code",
      "source": [],
      "metadata": {
        "id": "s3XXhZJeAPmL"
      },
      "execution_count": null,
      "outputs": []
    }
  ]
}