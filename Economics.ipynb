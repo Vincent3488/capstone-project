{
  "nbformat": 4,
  "nbformat_minor": 0,
  "metadata": {
    "colab": {
      "provenance": []
    },
    "kernelspec": {
      "name": "python3",
      "display_name": "Python 3"
    },
    "language_info": {
      "name": "python"
    }
  },
  "cells": [
    {
      "cell_type": "code",
      "execution_count": null,
      "metadata": {
        "id": "4l0BQ0UxEQ2d"
      },
      "outputs": [],
      "source": [
        "%load_ext sql"
      ]
    },
    {
      "cell_type": "code",
      "source": [
        "%sql sqlite://"
      ],
      "metadata": {
        "id": "rMfy5vsvEigE"
      },
      "execution_count": null,
      "outputs": []
    },
    {
      "cell_type": "markdown",
      "source": [],
      "metadata": {
        "id": "B9Ud0D2Y_j8L"
      }
    },
    {
      "cell_type": "markdown",
      "source": [
        "15th July 2023-14th August 2023"
      ],
      "metadata": {
        "id": "A0rlIxv-KcJ6"
      }
    },
    {
      "cell_type": "code",
      "source": [
        "%%sql CREATE TABLE PricePeriods (\n",
        "    price_period_id INTEGER PRIMARY KEY AUTOINCREMENT,\n",
        "    start_date DATE,\n",
        "    end_date DATE\n",
        ");"
      ],
      "metadata": {
        "colab": {
          "base_uri": "https://localhost:8080/"
        },
        "id": "jA0m_8KzEihz",
        "outputId": "2afd7d85-8412-49af-a698-f827a8f004dd"
      },
      "execution_count": null,
      "outputs": [
        {
          "output_type": "stream",
          "name": "stdout",
          "text": [
            " * sqlite://\n",
            "Done.\n"
          ]
        },
        {
          "output_type": "execute_result",
          "data": {
            "text/plain": [
              "[]"
            ]
          },
          "metadata": {},
          "execution_count": 3
        }
      ]
    },
    {
      "cell_type": "markdown",
      "source": [],
      "metadata": {
        "id": "74zeJ7O2KaUX"
      }
    },
    {
      "cell_type": "code",
      "source": [
        "%%sql INSERT INTO PricePeriods (start_date, end_date)\n",
        "VALUES ('2023-07-15', '2023-08-14');"
      ],
      "metadata": {
        "colab": {
          "base_uri": "https://localhost:8080/"
        },
        "id": "lE8daf27Eijt",
        "outputId": "6f127d3e-d145-4d7f-d0f7-16c818221938"
      },
      "execution_count": null,
      "outputs": [
        {
          "output_type": "stream",
          "name": "stdout",
          "text": [
            " * sqlite://\n",
            "1 rows affected.\n"
          ]
        },
        {
          "output_type": "execute_result",
          "data": {
            "text/plain": [
              "[]"
            ]
          },
          "metadata": {},
          "execution_count": 4
        }
      ]
    },
    {
      "cell_type": "code",
      "source": [
        "%%sql CREATE TABLE Towns (\n",
        "    town_id INTEGER PRIMARY KEY AUTOINCREMENT,\n",
        "    town_name TEXT\n",
        ");"
      ],
      "metadata": {
        "colab": {
          "base_uri": "https://localhost:8080/"
        },
        "id": "lpOl8up_Ein0",
        "outputId": "cbeb36d7-39a3-497e-bc72-b165a9e2a92d"
      },
      "execution_count": null,
      "outputs": [
        {
          "output_type": "stream",
          "name": "stdout",
          "text": [
            " * sqlite://\n",
            "Done.\n"
          ]
        },
        {
          "output_type": "execute_result",
          "data": {
            "text/plain": [
              "[]"
            ]
          },
          "metadata": {},
          "execution_count": 5
        }
      ]
    },
    {
      "cell_type": "code",
      "source": [
        "%%sql CREATE TABLE FuelPrices (\n",
        "    price_id INTEGER PRIMARY KEY AUTOINCREMENT,\n",
        "    price_period_id INTEGER,\n",
        "    town_id INTEGER,\n",
        "    super_petrol_price FLOAT,\n",
        "    diesel_price FLOAT,\n",
        "    kerosene_price FLOAT,\n",
        "    FOREIGN KEY (price_period_id) REFERENCES PricePeriods (price_period_id),\n",
        "    FOREIGN KEY (town_id) REFERENCES Towns (town_id)\n",
        ");"
      ],
      "metadata": {
        "colab": {
          "base_uri": "https://localhost:8080/"
        },
        "id": "McrwOqK7EiyY",
        "outputId": "68e9f141-97dc-4dfd-f1c9-8e09d39ef179"
      },
      "execution_count": null,
      "outputs": [
        {
          "output_type": "stream",
          "name": "stdout",
          "text": [
            " * sqlite://\n",
            "Done.\n"
          ]
        },
        {
          "output_type": "execute_result",
          "data": {
            "text/plain": [
              "[]"
            ]
          },
          "metadata": {},
          "execution_count": 6
        }
      ]
    },
    {
      "cell_type": "code",
      "source": [
        "%%sql INSERT INTO FuelPrices (price_period_id, town_id, super_petrol_price, diesel_price, kerosene_price)\n",
        "VALUES\n",
        "(1, 1, 191.62, 176.63, 166.43),\n",
        "(1, 2, 192.39, 177.40, 167.19),\n",
        "(1, 3, 192.00, 177.02, 166.81),\n",
        "(1, 4, 192.00, 177.02, 166.81),\n",
        "(1, 5, 192.62, 177.62, 167.41),\n",
        "(1, 6, 192.77, 177.78, 167.57),\n",
        "(1, 7, 193.21, 178.21, 168.01),\n",
        "(1, 8, 194.73, 179.73, 169.52),\n",
        "(1, 9, 195.17, 180.17, 169.97),\n",
        "(1, 10, 195.47, 180.48, 170.28),\n",
        "(1, 11, 195.17, 180.17, 169.97),\n",
        "(1, 12, 194.06, 179.07, 168.86),\n",
        "(1, 13, 194.15, 179.16, 168.95),\n",
        "(1, 14, 191.95, 176.95, 166.75),\n",
        "(1, 15, 192.14, 177.14, 166.95),\n",
        "(1, 16, 193.57, 178.58, 168.37),\n",
        "(1, 17, 193.75, 178.76, 168.56),\n",
        "(1, 18, 191.79, 176.80, 166.60),\n",
        "(1, 19, 193.32, 178.33, 168.12),\n",
        "(1, 20, 194.68, 179.67, 169.48),\n",
        "(1, 21, 194.68, 179.67, 169.48),\n",
        "(1, 22, 194.94, 179.92, 169.73),\n",
        "(1, 23, 195.13, 180.11, 169.93),\n",
        "(1, 24, 195.00, 179.97, 169.79),\n",
        "(1, 25, 195.24, 180.23, 170.03),\n",
        "(1, 26, 195.48, 180.46, 170.28),\n",
        "(1, 27, 195.87, 180.86, 170.66),\n",
        "(1, 28, 195.78, 180.76, 170.58),\n",
        "(1, 29, 196.17, 181.16, 170.97),\n",
        "(1, 30, 196.16, 181.15, 170.95),\n",
        "(1, 31, 196.34, 181.32, 171.13),\n",
        "(1, 32, 196.12, 181.10, 170.91),\n",
        "(1, 33, 196.43, 181.42, 171.23),\n",
        "(1, 34, 196.33, 181.31, 171.12),\n",
        "(1, 35, 196.75, 181.73, 171.54),\n",
        "(1, 36, 196.76, 181.74, 171.55),\n",
        "(1, 37, 197.80, 182.78, 172.60);"
      ],
      "metadata": {
        "colab": {
          "base_uri": "https://localhost:8080/"
        },
        "id": "tzQ6z11aEi1V",
        "outputId": "3e001271-405b-44ee-e8e1-f2545c49c96e"
      },
      "execution_count": null,
      "outputs": [
        {
          "output_type": "stream",
          "name": "stdout",
          "text": [
            " * sqlite://\n",
            "37 rows affected.\n"
          ]
        },
        {
          "output_type": "execute_result",
          "data": {
            "text/plain": [
              "[]"
            ]
          },
          "metadata": {},
          "execution_count": 7
        }
      ]
    },
    {
      "cell_type": "code",
      "source": [
        "%%sql INSERT INTO Towns (town_name)\n",
        "VALUES\n",
        "('Mombasa'),\n",
        "('Kilifi'),\n",
        "('Likoni Mainland'),\n",
        "('Kwale'),\n",
        "('Malindi'),\n",
        "('Lungalunga'),\n",
        "('Voi'),\n",
        "('Taveta'),\n",
        "('Lamu'),\n",
        "('Hola'),\n",
        "('Mpeketoni'),\n",
        "('Minjila'),\n",
        "('Garsen'),\n",
        "('Samburu'),\n",
        "('Taru'),\n",
        "('Mwatate'),\n",
        "('Wundanji'),\n",
        "('Kaloleni'),\n",
        "('Marereni'),\n",
        "('Nairobi'),\n",
        "('Thika'),\n",
        "('Machakos'),\n",
        "('Kajiado'),\n",
        "('Makuyu'),\n",
        "('Muranga'),\n",
        "('Sagana'),\n",
        "('Embu'),\n",
        "('Kerugoya'),\n",
        "('Narok'),\n",
        "('Nyeri'),\n",
        "('Namanga'),\n",
        "('Kiganjo'),\n",
        "('Chuka'),\n",
        "('Kitui'),\n",
        "('Mwingi'),\n",
        "('Nanyuki'),\n",
        "('Nkubu');"
      ],
      "metadata": {
        "colab": {
          "base_uri": "https://localhost:8080/"
        },
        "id": "zt2XTjwPM7xp",
        "outputId": "0becd49c-f433-4b0e-b21d-d001d8bff02c"
      },
      "execution_count": null,
      "outputs": [
        {
          "output_type": "stream",
          "name": "stdout",
          "text": [
            " * sqlite://\n",
            "37 rows affected.\n"
          ]
        },
        {
          "output_type": "execute_result",
          "data": {
            "text/plain": [
              "[]"
            ]
          },
          "metadata": {},
          "execution_count": 8
        }
      ]
    },
    {
      "cell_type": "code",
      "source": [],
      "metadata": {
        "id": "X8XlhcCvM70l"
      },
      "execution_count": null,
      "outputs": []
    }
  ]
}